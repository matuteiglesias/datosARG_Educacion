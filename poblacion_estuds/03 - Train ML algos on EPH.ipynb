{
 "cells": [
  {
   "cell_type": "markdown",
   "metadata": {},
   "source": [
    "# Training ML algos on EPH. Predicting on CENSO."
   ]
  },
  {
   "cell_type": "code",
   "execution_count": 1,
   "metadata": {
    "collapsed": false
   },
   "outputs": [],
   "source": [
    "# Load modules\n",
    "# import time\n",
    "# time.sleep(2000)\n",
    "\n",
    "import pandas as pd\n",
    "import numpy as np\n",
    "\n",
    "\n",
    "# Column names\n",
    "y_cols = ['CAT_OCUP', 'P47T', 'PP10E', 'PP10D', 'PP07K', 'PP07I', 'V3_M', 'PP07G4', 'CH16', 'T_VI', \n",
    "          'V12_M', 'TOT_P12', 'PP07G3', 'V5_M', 'PP07H', 'V2_M', 'PP10C', \n",
    "          'PP08D1', 'PP07J', 'CAT_INAC', 'CH07', 'CH08', 'P21', 'PP07G1', 'PP07G_59', 'PP07G2']\n",
    "\n",
    "\n",
    "x_cols = ['IX_TOT', 'P02', 'P03', 'AGLOMERADO', 'V01', 'H05', 'H06',\n",
    "       'H07', 'H08', 'H09', 'H10', 'H11', 'H12', 'H16', 'H15', 'PROP', 'H14',\n",
    "       'H13', 'P07', 'P08', 'P09', 'P10', 'P05', 'CONDACT']"
   ]
  },
  {
   "cell_type": "markdown",
   "metadata": {},
   "source": [
    "# Sector de testeo. Codigo posta mas abajo!\n",
    "\n",
    "### Import data"
   ]
  },
  {
   "cell_type": "code",
   "execution_count": 2,
   "metadata": {
    "collapsed": true
   },
   "outputs": [],
   "source": [
    "\n",
    "# T = '20162'\n",
    "# # Load EPH\n",
    "# # PBA_train = pd.read_csv('./PBA_train.csv').fillna(0)\n",
    "# PBA_train = pd.read_csv('./PBA_train_'+T+'.csv').fillna(0)\n",
    "# # PBA_train = PBA_train.sample(frac = 1).reset_index(drop = True)\n",
    "# # PBA_train.head()\n",
    "\n",
    "# # Load Census\n",
    "# # X_censo = pd.read_csv('./sample_censo_table025_A_bolivar.csv').fillna(0)\n",
    "# # X_censo = pd.read_csv('./sample_censo_table025_A_vlopez_rodriguez.csv').fillna(0)\n",
    "# X_censo = pd.read_csv('./sample_censo_table025rand.csv', nrows=300000, usecols = ['DPTO','RADIO_REF_ID','PERSONA_REF_ID','IX_TOT', 'P02', 'P03', 'CONDACT', 'AGLOMERADO', 'V01', 'H05', 'H06',\n",
    "#        'H07', 'H08', 'H09', 'H10', 'H11', 'H12', 'H16', 'H15', 'PROP', 'H14',\n",
    "#        'H13', 'P07', 'P08', 'P09', 'P10', 'P05']).fillna(0).rename(columns = {'CONDACT': 'CA'})\n",
    "# X_censo[x_cols].values.shape"
   ]
  },
  {
   "cell_type": "code",
   "execution_count": 3,
   "metadata": {
    "collapsed": true,
    "scrolled": false
   },
   "outputs": [],
   "source": [
    "# # PBA_train.groupby('P03').count()#['CONDACT']\n",
    "\n",
    "# df_25_50_emp = PBA_train[['P03','ANO4', 'TRIMESTRE','CONDACT', 'CAT_OCUP', 'CAT_INAC']]\n",
    "# sum_e = pd.get_dummies(df_25_50_emp, columns = ['CONDACT', 'CAT_OCUP', 'CAT_INAC']).groupby(['ANO4','TRIMESTRE']).sum()\n",
    "# total_e = df_25_50_emp.groupby(['ANO4','TRIMESTRE']).count().iloc[:, 1]\n",
    "# perce = 100*np.round(sum_e.div(total_e, 0), 4)"
   ]
  },
  {
   "cell_type": "code",
   "execution_count": 4,
   "metadata": {
    "collapsed": true
   },
   "outputs": [],
   "source": [
    "# perce"
   ]
  },
  {
   "cell_type": "markdown",
   "metadata": {},
   "source": [
    "### Scale and transform some features. \n",
    "Eg we do not want any confusion on CONDACT, AGLO so we scale them up. We also want ~10 age ranges, not 100 exact age values. But pay attention that the same transformation needs to be on the EPH and the CENSUS Columns. Eventually they sould be taken back. Eg, we finally need exact age values and not transformed ones. We take care of that when we load the data for other stuff."
   ]
  },
  {
   "cell_type": "code",
   "execution_count": 5,
   "metadata": {
    "collapsed": true
   },
   "outputs": [],
   "source": [
    "# # Escalar algunos de los features\n",
    "# # Grupo edad (deciles)\n",
    "\n",
    "# # Numbers 0 to 9 for age deciles. \n",
    "# # Estas en el decil de edad. x% de la gente menor que uno.\n",
    "# # PBA_train['P03'] = np.floor(10*PBA_train[['P03']].rank(pct = 1)-0.01).astype(int)\n",
    "# # X_censo['P03'] = np.floor(10*X_censo[['P03']].rank(pct = 1)-0.01).astype(int)\n",
    "\n",
    "# PBA_train['P03'] = (abs(PBA_train[['P03']] -19) < 3).astype(int) * PBA_train[['P03']] + \\\n",
    "# (abs(PBA_train[['P03']] -19) >= 3).astype(int) * np.floor(10*PBA_train[['P03']].rank(pct = 1)-0.01).astype(int)\n",
    "\n",
    "# X_censo['P03'] = (abs(X_censo[['P03']] -19) < 3).astype(int) * X_censo[['P03']] + \\\n",
    "# (abs(X_censo[['P03']] -19) >= 3).astype(int) * np.floor(10*X_censo[['P03']].rank(pct = 1)-0.01).astype(int)\n",
    "\n",
    "# # train['CH07'] = train['CONDACT']\n",
    "\n",
    "# # Superweight CONDACT\n",
    "# PBA_train['CONDACT'] = 100*PBA_train['CONDACT']\n",
    "# X_censo['CONDACT'] = 100*X_censo['CONDACT']\n",
    "\n",
    "# # Superweight CONDACT\n",
    "# PBA_train['AGLOMERADO'] = 10*PBA_train['AGLOMERADO']\n",
    "# X_censo['AGLOMERADO'] = 10*X_censo['AGLOMERADO']\n"
   ]
  },
  {
   "cell_type": "markdown",
   "metadata": {},
   "source": [
    "## Three step fitting and predicting on Censo\n",
    "*Classification.* Use data pooled from all TRIMESTRE. Income does not play a role. Knowing this info better we can predict income in the third step.\n",
    "#### Step 1: Classification RF for 'estado civil' and 'condicion  de actividad', eg Jubilado, estudiante, ama de casa, ninos, trabajador.\n",
    "#### Step 2: Classification RF for questions on employment quality, i.e. obra social, vacaciones pagas, cobra en blanco.\n",
    "\n",
    "*Regression:* Each ANO4 TRIMESTRE has wage levels. Especially so in Argentina because of high inflation.\n",
    "Here the training dataset is different, it uses the ANO4 and TRIMESTRE columns and includes the income variables.\n",
    "#### Step 3: Regression RF for income variables.\n",
    "\n",
    "### In each step we fit on EPH and predict on CENSO. So at the end we have the completed CENSO dataset ready to save."
   ]
  },
  {
   "cell_type": "code",
   "execution_count": 6,
   "metadata": {
    "collapsed": true
   },
   "outputs": [],
   "source": [
    "# from sklearn.model_selection import train_test_split\n",
    "\n",
    "# import numpy as np\n",
    "\n",
    "\n",
    "# ### STEP 1\n",
    "# predecir = ['CONDACT', 'CAT_OCUP', 'CAT_INAC', 'CH07']\n",
    "\n",
    "# X = PBA_train[x_cols]\n",
    "# y = PBA_train[predecir].loc[X.index]\n",
    "\n",
    "# X_train, X_test, y_train, y_test = train_test_split(X, y, test_size=0.05)\n",
    "# # Rewrite Census data as 'test' set.\n",
    "\n",
    "# from sklearn import tree\n",
    "# from sklearn.ensemble import RandomForestClassifier\n",
    "\n",
    "# X = X_train\n",
    "# y = y_train\n",
    "\n",
    "# # clf = tree.DecisionTreeClassifier()\n",
    "# clf = RandomForestClassifier(n_estimators=50)\n",
    "# clf = clf.fit(X.values, y.values)\n",
    "\n",
    "# y_out1 = clf.predict(X_censo[x_cols].values)\n",
    "# y_censo_fit1 = pd.DataFrame(y_out1, index = X_censo.index, columns=predecir)\n",
    "# Xy1_censo = pd.concat([X_censo, y_censo_fit1], axis = 1)\n",
    "\n",
    "# ### STEP 2\n",
    "\n",
    "# x_cols2 = x_cols+predecir\n",
    "# # La seccion PP07G pregunta si el trabajo es en blanco y que beneficios tiene. Puede ayudar a la regresion para ingresos.\n",
    "# predecir2 = ['PP07G1', 'PP07G2', 'PP07G3', 'PP07G4', 'PP07G_59', 'PP07H', 'PP07I', 'PP07J', 'PP07K']\n",
    "# y_cols2 = predecir2\n",
    "# X = PBA_train[x_cols2]\n",
    "# y = PBA_train[y_cols2].loc[X.index]\n",
    "\n",
    "# X_train, X_test, y_train, y_test = train_test_split(X, y, test_size=0.05)\n",
    "# X = X_train; y = y_train\n",
    "\n",
    "# # clf2 = tree.DecisionTreeClassifier()\n",
    "# # clf2 = clf2.fit(X.values, y.values)\n",
    "# clf2 = RandomForestClassifier(n_estimators=50).fit(X.values, y.values)\n",
    "\n",
    "# y_out2 = clf2.predict(Xy1_censo[x_cols2].values)\n",
    "# y_censo_fit2 = pd.DataFrame(y_out2, index = X_censo.index, columns=predecir2)\n",
    "# Xy2_censo = pd.concat([Xy1_censo, y_censo_fit2], axis = 1)\n",
    "\n",
    "# # ### STEP 3 (Regression)\n",
    "\n",
    "# # x_cols3 = x_cols2 + predecir2\n",
    "# # # Columnas de ingresos. Necesitan una regresion...\n",
    "# # predecir3 = ['P47T', 'V3_M', 'T_VI', 'V12_M', 'TOT_P12', 'V5_M','V2_M', 'PP08D1', 'P21']\n",
    "# # y_cols3 = predecir3\n",
    "\n",
    "# # X = EPH[x_cols3].sample(frac = 1) #PBA_train_reg\n",
    "# # y = EPH[y_cols3].loc[X.index] #PBA_train_reg\n",
    "\n",
    "# # X_train, X_test, y_train, y_test = train_test_split(X, y, test_size=0.2)\n",
    "# # X = X_train; y = y_train\n",
    "\n",
    "# # clf3 = tree.DecisionTreeRegressor()\n",
    "# # clf3 = clf3.fit(X.values, y.values)\n",
    "\n",
    "# # y_out = clf3.predict(X_test.values)\n",
    "# # y_test_fit = pd.DataFrame(y_out, index = X_test.index, columns=predecir3)\n",
    "# # both = pd.concat([X_test, y_test[predecir3], y_test_fit], axis = 1)\n",
    "\n",
    "# # y_out3 = clf3.predict(Xy2_censo[x_cols3].values)\n",
    "# # y_censo_fit3 = pd.DataFrame(y_out3, index = X_censo.index, columns=predecir3)\n",
    "# # Xy3_censo = pd.concat([Xy2_censo, y_censo_fit3], axis = 1)\n",
    "\n",
    "# # Xy3_censo = round(Xy3_censo)"
   ]
  },
  {
   "cell_type": "markdown",
   "metadata": {},
   "source": [
    "### Save outcoming Censo dataset"
   ]
  },
  {
   "cell_type": "code",
   "execution_count": 7,
   "metadata": {
    "collapsed": true
   },
   "outputs": [],
   "source": [
    "# # Xy2_censo.to_csv('RFC_25rand.csv', index = False)\n",
    "\n",
    "# Xy2_censo.to_csv('RFC_25rand_.csv', index = False)"
   ]
  },
  {
   "cell_type": "code",
   "execution_count": 8,
   "metadata": {
    "collapsed": true
   },
   "outputs": [],
   "source": [
    "# pd.options.display.max_columns = 999\n",
    "# Xy2_censo.head()\n",
    "# # Xy3_censo.iloc[:, -4].value_counts().sort_index()\n",
    "# #df.sum()/25/1e6"
   ]
  },
  {
   "cell_type": "code",
   "execution_count": 9,
   "metadata": {
    "collapsed": true
   },
   "outputs": [],
   "source": [
    "# Xy3_censo.drop('Unnamed: 0', axis = 1).to_csv('censo_filled_vloprodr.csv', index = False)"
   ]
  },
  {
   "cell_type": "markdown",
   "metadata": {},
   "source": [
    "# Ahora si!\n",
    "## Train on Quarterly data"
   ]
  },
  {
   "cell_type": "code",
   "execution_count": 10,
   "metadata": {
    "collapsed": true
   },
   "outputs": [],
   "source": [
    "import pandas as pd\n",
    "from sklearn.model_selection import train_test_split\n",
    "# import numpy as np\n",
    "from sklearn.ensemble import RandomForestClassifier, RandomForestRegressor"
   ]
  },
  {
   "cell_type": "code",
   "execution_count": 11,
   "metadata": {
    "collapsed": true
   },
   "outputs": [],
   "source": [
    "\n",
    "# T = '20162'\n",
    "# # Load EPH\n",
    "# # PBA_train = pd.read_csv('./PBA_train.csv').fillna(0)\n",
    "# PBA_train = pd.read_csv('./PBA_train_'+T+'.csv').fillna(0)\n",
    "# # PBA_train = PBA_train.sample(frac = 1).reset_index(drop = True)\n",
    "# # PBA_train.head()\n",
    "\n",
    "# # Load Census\n",
    "# # X_censo = pd.read_csv('./sample_censo_table025_A_bolivar.csv').fillna(0)\n",
    "# # X_censo = pd.read_csv('./sample_censo_table025_A_vlopez_rodriguez.csv').fillna(0)\n",
    "# X_censo = pd.read_csv('./sample_censo_table025rand.csv', nrows=300000, usecols = ['DPTO','RADIO_REF_ID','PERSONA_REF_ID','IX_TOT', 'P02', 'P03', 'CONDACT', 'AGLOMERADO', 'V01', 'H05', 'H06',\n",
    "#        'H07', 'H08', 'H09', 'H10', 'H11', 'H12', 'H16', 'H15', 'PROP', 'H14',\n",
    "#        'H13', 'P07', 'P08', 'P09', 'P10', 'P05']).fillna(0).rename(columns = {'CONDACT': 'CA'})\n",
    "# X_censo[x_cols].values.shape"
   ]
  },
  {
   "cell_type": "code",
   "execution_count": 12,
   "metadata": {
    "collapsed": false
   },
   "outputs": [],
   "source": [
    "# Load Census\n",
    "file = './sample_censo_table_f.1BA.csv'\n",
    "\n",
    "X_censo = pd.read_csv(file, usecols = ['DPTO','RADIO_REF_ID','PERSONA_REF_ID','IX_TOT', 'P02', 'P03', 'CONDACT', 'AGLOMERADO', 'V01', 'H05', 'H06',\n",
    "       'H07', 'H08', 'H09', 'H10', 'H11', 'H12', 'H16', 'H15', 'PROP', 'H14',\n",
    "       'H13', 'P07', 'P08', 'P09', 'P10', 'P05']).fillna(0)\n",
    "X_censo[x_cols].values.shape\n",
    "\n",
    "X_censo['P03'] = (abs(X_censo[['P03']] -19) < 3).astype(int) * X_censo[['P03']] + \\\n",
    "(abs(X_censo[['P03']] -19) >= 3).astype(int) * np.floor(10*X_censo[['P03']].rank(pct = 1)-0.01).astype(int)\n",
    "X_censo['CONDACT'] = 100*X_censo['CONDACT']\n",
    "X_censo['AGLOMERADO'] = 10*X_censo['AGLOMERADO']"
   ]
  },
  {
   "cell_type": "code",
   "execution_count": 13,
   "metadata": {
    "collapsed": false
   },
   "outputs": [
    {
     "data": {
      "text/plain": [
       "(1852778, 27)"
      ]
     },
     "execution_count": 13,
     "metadata": {},
     "output_type": "execute_result"
    }
   ],
   "source": [
    "X_censo.shape"
   ]
  },
  {
   "cell_type": "code",
   "execution_count": 14,
   "metadata": {
    "collapsed": false
   },
   "outputs": [],
   "source": [
    "# Load EPH\n",
    "\n",
    "PBA_train = pd.read_csv('./PBA_train.csv').fillna(0)\n",
    "PBA_train['P03'] = (abs(PBA_train[['P03']] -19) < 3).astype(int) * PBA_train[['P03']] + \\\n",
    "(abs(PBA_train[['P03']] -19) >= 3).astype(int) * np.floor(10*PBA_train[['P03']].rank(pct = 1)-0.01).astype(int)\n",
    "PBA_train['CONDACT'] = 100*PBA_train['CONDACT']\n",
    "PBA_train['AGLOMERADO'] = 10*PBA_train['AGLOMERADO']\n",
    "\n",
    "# PBA_train = PBA_train.loc[PBA_train.AGLOMERADO.isin(X_censo['AGLOMERADO'].unique())]\n"
   ]
  },
  {
   "cell_type": "code",
   "execution_count": 16,
   "metadata": {
    "collapsed": false
   },
   "outputs": [],
   "source": [
    "\n",
    "### STEP 1\n",
    "x_cols1 = x_cols\n",
    "\n",
    "#     predecir = ['CAT_OCUP', 'CAT_INAC', 'CH07']\n",
    "predecir1 = ['CAT_OCUP', 'CAT_INAC', 'CH07']\n",
    "y_cols1 = predecir1\n",
    "\n",
    "X = PBA_train[x_cols1]\n",
    "y = PBA_train[y_cols1].loc[X.index]\n",
    "\n",
    "X_train, X_test, y_train, y_test = train_test_split(X, y, test_size=0.05)\n",
    "# Rewrite Census data as 'test' set.\n",
    "\n",
    "X = X_train; y = y_train\n",
    "\n",
    "# clf = tree.DecisionTreeClassifier()\n",
    "clf1 = RandomForestClassifier(n_estimators=50)\n",
    "clf1 = clf1.fit(X.values, y.values)\n",
    "\n",
    "y_out1 = clf1.predict(X_censo[x_cols1].values)\n",
    "y_censo_fit1 = pd.DataFrame(y_out1, index = X_censo.index, columns=predecir1)\n",
    "Xy1_censo = pd.concat([X_censo, y_censo_fit1], axis = 1)\n",
    "\n",
    "### STEP 2\n",
    "\n",
    "x_cols2 = x_cols1+predecir1\n",
    "# La seccion PP07G pregunta si el trabajo es en blanco y que beneficios tiene. Puede ayudar a la regresion para ingresos.\n",
    "predecir2 = ['PP07G1', 'PP07G2', 'PP07G3', 'PP07G4', 'PP07G_59', 'PP07H', 'PP07I', 'PP07J', 'PP07K']\n",
    "y_cols2 = predecir2\n",
    "X = PBA_train[x_cols2]\n",
    "y = PBA_train[y_cols2].loc[X.index]\n",
    "\n",
    "X_train, X_test, y_train, y_test = train_test_split(X, y, test_size=0.05)\n",
    "X = X_train; y = y_train\n",
    "\n",
    "# clf2 = tree.DecisionTreeClassifier()\n",
    "# clf2 = clf2.fit(X.values, y.values)\n",
    "clf2 = RandomForestClassifier(n_estimators=50).fit(X.values, y.values)\n",
    "\n",
    "y_out2 = clf2.predict(Xy1_censo[x_cols2].values)\n",
    "y_censo_fit2 = pd.DataFrame(y_out2, index = X_censo.index, columns=predecir2)\n",
    "Xy2_censo = pd.concat([Xy1_censo, y_censo_fit2], axis = 1)\n"
   ]
  },
  {
   "cell_type": "code",
   "execution_count": 17,
   "metadata": {
    "collapsed": true
   },
   "outputs": [],
   "source": [
    "# # save RFC_25rand_20162\n",
    "# Xy2_censo.to_csv('RFC_.1BA.csv', index = False)"
   ]
  },
  {
   "cell_type": "code",
   "execution_count": 18,
   "metadata": {
    "collapsed": false,
    "scrolled": false
   },
   "outputs": [
    {
     "name": "stdout",
     "output_type": "stream",
     "text": [
      "20162\n",
      "20163\n",
      "20164\n",
      "20171\n",
      "20172\n",
      "20173\n",
      "20174\n",
      "20181\n",
      "20182\n",
      "20183\n"
     ]
    }
   ],
   "source": [
    "for T in ['20162', '20163', '20164', '20171', '20172',  '20173',  '20174',  '20181', '20182', '20183']:\n",
    "    print(T)\n",
    "    ### STEP 3 (Regression)\n",
    "    PBA_train = pd.read_csv('./PBA_train_'+T+'.csv').fillna(0)\n",
    "\n",
    "    x_cols3 = x_cols2 + predecir2\n",
    "    # Columnas de ingresos. Necesitan una regresion...\n",
    "    predecir3 = ['P47T', 'V3_M', 'T_VI', 'V12_M', 'TOT_P12', 'V5_M','V2_M', 'PP08D1', 'P21']\n",
    "    y_cols3 = predecir3\n",
    "\n",
    "    X = PBA_train[x_cols3].sample(frac = 1) #PBA_train_reg\n",
    "    y = PBA_train[y_cols3].loc[X.index] #PBA_train_reg\n",
    "\n",
    "    X_train, X_test, y_train, y_test = train_test_split(X, y, test_size=0.2)\n",
    "    X = X_train; y = y_train\n",
    "\n",
    "    clf3 = RandomForestRegressor(n_estimators=50)\n",
    "    clf3 = clf3.fit(X.values, y.values)\n",
    "\n",
    "    y_out3 = clf3.predict(Xy2_censo[x_cols3].values)\n",
    "    y_censo_fit3 = pd.DataFrame(y_out3, index = X_censo.index, columns=predecir3)\n",
    "    Xy3_censo = pd.concat([Xy2_censo, y_censo_fit3], axis = 1)\n",
    "    Xy3_censo['ANO4'] = T[:-1]; Xy3_censo['TRIMESTRE'] = T[-1]\n",
    "\n",
    "    \n",
    "    # save\n",
    "#     Xy3_censo.to_csv('RFReg_.01AR'+T+'.csv', index = False)\n",
    "    Xy3_censo.to_csv('RFReg_.1BA'+T+'.csv', index = False)"
   ]
  },
  {
   "cell_type": "code",
   "execution_count": null,
   "metadata": {
    "collapsed": false
   },
   "outputs": [],
   "source": [
    "Xy3_censo.head()"
   ]
  },
  {
   "cell_type": "code",
   "execution_count": null,
   "metadata": {
    "collapsed": true
   },
   "outputs": [],
   "source": []
  }
 ],
 "metadata": {
  "kernelspec": {
   "display_name": "Python 2",
   "language": "python",
   "name": "python2"
  },
  "language_info": {
   "codemirror_mode": {
    "name": "ipython",
    "version": 2
   },
   "file_extension": ".py",
   "mimetype": "text/x-python",
   "name": "python",
   "nbconvert_exporter": "python",
   "pygments_lexer": "ipython2",
   "version": "2.7.15"
  }
 },
 "nbformat": 4,
 "nbformat_minor": 2
}
