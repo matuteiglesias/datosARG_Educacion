{
 "cells": [
  {
   "cell_type": "markdown",
   "metadata": {},
   "source": [
    "## On this notebook we extract Censo 2010 individual data from their files.\n"
   ]
  },
  {
   "cell_type": "code",
   "execution_count": 1,
   "metadata": {},
   "outputs": [],
   "source": [
    "# Load modules\n",
    "import warnings\n",
    "warnings.filterwarnings('ignore')\n",
    "import pandas as pd\n",
    "\n",
    "import numpy as np"
   ]
  },
  {
   "cell_type": "markdown",
   "metadata": {},
   "source": [
    "### Create reference dataset for Radios. This holds all the info on id's and labels of districts together."
   ]
  },
  {
   "cell_type": "code",
   "execution_count": 5,
   "metadata": {},
   "outputs": [
    {
     "data": {
      "text/html": [
       "<div>\n",
       "<style scoped>\n",
       "    .dataframe tbody tr th:only-of-type {\n",
       "        vertical-align: middle;\n",
       "    }\n",
       "\n",
       "    .dataframe tbody tr th {\n",
       "        vertical-align: top;\n",
       "    }\n",
       "\n",
       "    .dataframe thead th {\n",
       "        text-align: right;\n",
       "    }\n",
       "</style>\n",
       "<table border=\"1\" class=\"dataframe\">\n",
       "  <thead>\n",
       "    <tr style=\"text-align: right;\">\n",
       "      <th></th>\n",
       "      <th>RADIO_REF_ID</th>\n",
       "      <th>FRAC_REF_ID</th>\n",
       "      <th>IDRADIO</th>\n",
       "      <th>DPTO_REF_ID</th>\n",
       "      <th>IDFRAC</th>\n",
       "      <th>PROV_REF_ID</th>\n",
       "      <th>IDDPTO</th>\n",
       "      <th>DPTO</th>\n",
       "      <th>NOMDPTO</th>\n",
       "      <th>CPV2010_REF_ID</th>\n",
       "      <th>IDPROV</th>\n",
       "      <th>PROV</th>\n",
       "      <th>NOMPROV</th>\n",
       "      <th>radio</th>\n",
       "      <th>AGLOMERADO</th>\n",
       "    </tr>\n",
       "    <tr>\n",
       "      <th>RADIO_REF_ID</th>\n",
       "      <th></th>\n",
       "      <th></th>\n",
       "      <th></th>\n",
       "      <th></th>\n",
       "      <th></th>\n",
       "      <th></th>\n",
       "      <th></th>\n",
       "      <th></th>\n",
       "      <th></th>\n",
       "      <th></th>\n",
       "      <th></th>\n",
       "      <th></th>\n",
       "      <th></th>\n",
       "      <th></th>\n",
       "      <th></th>\n",
       "    </tr>\n",
       "  </thead>\n",
       "  <tbody>\n",
       "    <tr>\n",
       "      <th>17194</th>\n",
       "      <td>17194</td>\n",
       "      <td>1704</td>\n",
       "      <td>14</td>\n",
       "      <td>87</td>\n",
       "      <td>4</td>\n",
       "      <td>2</td>\n",
       "      <td>364</td>\n",
       "      <td>6364</td>\n",
       "      <td>General Rodríguez</td>\n",
       "      <td>1</td>\n",
       "      <td>6</td>\n",
       "      <td>6</td>\n",
       "      <td>Buenos Aires</td>\n",
       "      <td>063640414</td>\n",
       "      <td>33</td>\n",
       "    </tr>\n",
       "    <tr>\n",
       "      <th>12593</th>\n",
       "      <td>12593</td>\n",
       "      <td>1066</td>\n",
       "      <td>8</td>\n",
       "      <td>39</td>\n",
       "      <td>21</td>\n",
       "      <td>2</td>\n",
       "      <td>861</td>\n",
       "      <td>6861</td>\n",
       "      <td>Vicente López</td>\n",
       "      <td>1</td>\n",
       "      <td>6</td>\n",
       "      <td>6</td>\n",
       "      <td>Buenos Aires</td>\n",
       "      <td>068612108</td>\n",
       "      <td>33</td>\n",
       "    </tr>\n",
       "    <tr>\n",
       "      <th>7742</th>\n",
       "      <td>7742</td>\n",
       "      <td>676</td>\n",
       "      <td>7</td>\n",
       "      <td>26</td>\n",
       "      <td>97</td>\n",
       "      <td>2</td>\n",
       "      <td>427</td>\n",
       "      <td>6427</td>\n",
       "      <td>La Matanza</td>\n",
       "      <td>1</td>\n",
       "      <td>6</td>\n",
       "      <td>6</td>\n",
       "      <td>Buenos Aires</td>\n",
       "      <td>064279707</td>\n",
       "      <td>33</td>\n",
       "    </tr>\n",
       "    <tr>\n",
       "      <th>7474</th>\n",
       "      <td>7474</td>\n",
       "      <td>657</td>\n",
       "      <td>11</td>\n",
       "      <td>26</td>\n",
       "      <td>78</td>\n",
       "      <td>2</td>\n",
       "      <td>427</td>\n",
       "      <td>6427</td>\n",
       "      <td>La Matanza</td>\n",
       "      <td>1</td>\n",
       "      <td>6</td>\n",
       "      <td>6</td>\n",
       "      <td>Buenos Aires</td>\n",
       "      <td>064277811</td>\n",
       "      <td>33</td>\n",
       "    </tr>\n",
       "    <tr>\n",
       "      <th>15559</th>\n",
       "      <td>15559</td>\n",
       "      <td>1502</td>\n",
       "      <td>8</td>\n",
       "      <td>72</td>\n",
       "      <td>9</td>\n",
       "      <td>2</td>\n",
       "      <td>252</td>\n",
       "      <td>6252</td>\n",
       "      <td>Escobar</td>\n",
       "      <td>1</td>\n",
       "      <td>6</td>\n",
       "      <td>6</td>\n",
       "      <td>Buenos Aires</td>\n",
       "      <td>062520908</td>\n",
       "      <td>33</td>\n",
       "    </tr>\n",
       "  </tbody>\n",
       "</table>\n",
       "</div>"
      ],
      "text/plain": [
       "              RADIO_REF_ID  FRAC_REF_ID  IDRADIO  DPTO_REF_ID  IDFRAC  \\\n",
       "RADIO_REF_ID                                                            \n",
       "17194                17194         1704       14           87       4   \n",
       "12593                12593         1066        8           39      21   \n",
       "7742                  7742          676        7           26      97   \n",
       "7474                  7474          657       11           26      78   \n",
       "15559                15559         1502        8           72       9   \n",
       "\n",
       "              PROV_REF_ID  IDDPTO  DPTO            NOMDPTO  CPV2010_REF_ID  \\\n",
       "RADIO_REF_ID                                                                 \n",
       "17194                   2     364  6364  General Rodríguez               1   \n",
       "12593                   2     861  6861      Vicente López               1   \n",
       "7742                    2     427  6427         La Matanza               1   \n",
       "7474                    2     427  6427         La Matanza               1   \n",
       "15559                   2     252  6252            Escobar               1   \n",
       "\n",
       "              IDPROV  PROV       NOMPROV      radio  AGLOMERADO  \n",
       "RADIO_REF_ID                                                     \n",
       "17194              6     6  Buenos Aires  063640414          33  \n",
       "12593              6     6  Buenos Aires  068612108          33  \n",
       "7742               6     6  Buenos Aires  064279707          33  \n",
       "7474               6     6  Buenos Aires  064277811          33  \n",
       "15559              6     6  Buenos Aires  062520908          33  "
      ]
     },
     "execution_count": 5,
     "metadata": {},
     "output_type": "execute_result"
    }
   ],
   "source": [
    "df = pd.read_csv('./../../censo_geo/RADIO.csv', ';'\n",
    "                ).merge(pd.read_csv('./../../censo_geo/FRAC.csv', ';')\n",
    "                       ).merge(pd.read_csv('./../../censo_geo/DPTO.csv', ';')\n",
    "                              ).merge(pd.read_csv('./../../censo_geo/PROV.csv', ';'))\n",
    "\n",
    "df['radio'] = df['IDPROV'].astype(str).str.zfill(2) + df['IDDPTO'].astype(str).str.zfill(3) \\\n",
    "+ df['IDFRAC'].astype(str).str.zfill(2) + df['IDRADIO'].astype(str).str.zfill(2)\n",
    "\n",
    "df['NOMDPTO'] = df['NOMDPTO'].str.strip()\n",
    "\n",
    "ref = pd.read_csv('./../../../Documents/EPH/radios_aglos_ref.csv')\n",
    "ref['AGLOMERADO'] = ref['AGLOMERADO'].fillna(0).astype(int)\n",
    "ref['radio'] = ref['LINK'].astype(str).str.zfill(9)\n",
    "\n",
    "df = df.merge(ref[['radio', 'AGLOMERADO']], on = 'radio')\n",
    "\n",
    "radio_ref = df#.set_index('RADIO_REF_ID', drop = True)\n",
    "radio_ref.index = radio_ref.RADIO_REF_ID\n",
    "\n",
    "#Ejemplo\n",
    "# radio_ref.to_csv('./../../censo_geo/radio_ref.csv', index = False)\n",
    "radio_ref = radio_ref.loc[radio_ref.AGLOMERADO.isin([2, 32, 33])]\n",
    "radio_ref.sample(5)"
   ]
  },
  {
   "cell_type": "markdown",
   "metadata": {},
   "source": [
    "### Check how long the data files are..."
   ]
  },
  {
   "cell_type": "code",
   "execution_count": 3,
   "metadata": {},
   "outputs": [
    {
     "name": "stdout",
     "output_type": "stream",
     "text": [
      "./HOGAR.csv Exact number of rows: 12197649\n",
      "./VIVIENDA.csv Exact number of rows: 13838099\n",
      "./PERSONA.csv Exact number of rows: 40117098\n"
     ]
    }
   ],
   "source": [
    "import subprocess\n",
    "\n",
    "def file_len(fname):\n",
    "    p = subprocess.Popen(['wc', '-l', fname], stdout=subprocess.PIPE, \n",
    "                                              stderr=subprocess.PIPE)\n",
    "    result, err = p.communicate()\n",
    "    if p.returncode != 0:\n",
    "        raise IOError(err)\n",
    "    n_rows = int(result.strip().split()[0])+1\n",
    "    print(f'{fname} Exact number of rows: {n_rows}')\n",
    "#     return n_rows\n",
    "\n",
    "file_len('./HOGAR.csv')\n",
    "file_len('./VIVIENDA.csv')\n",
    "file_len('./PERSONA.csv')"
   ]
  },
  {
   "cell_type": "markdown",
   "metadata": {},
   "source": [
    "### That is why we have to choose which DEPTOS we'll work with"
   ]
  },
  {
   "cell_type": "code",
   "execution_count": 21,
   "metadata": {
    "collapsed": true,
    "scrolled": false
   },
   "outputs": [],
   "source": [
    "# Tomar pocos distritos que concentren mucha poblacion\n",
    "\n",
    "personas = pd.read_csv('./../../Documents/Datos_censo/Preguntas/PERSONA-P02.csv', encoding='latin-1')\n",
    "personas['radio'] = personas['radio'].astype(str).str.zfill(9)\n",
    "personas = personas.merge(radio_ref[['radio', 'PROV', 'DPTO', 'NOMDPTO']])\n",
    "\n",
    "# Eg. choose the largest 25 in PBA and CABA, etc...\n",
    "# n = 25\n",
    "personas_prov = personas.loc[personas.PROV.isin([2, 6])]\n",
    "# seleccion_DPTOS = personas['DPTO'].values\n",
    "seleccion_DPTOS = personas_prov['DPTO'].values\n",
    "\n",
    "# most_populous = personas_prov.groupby(['PROV', 'DPTO', 'NOMDPTO'])[['TOTAL']].sum().sort_values(\n",
    "#     by = 'TOTAL', ascending = True)\n",
    "# seleccion_DPTOS = most_populous.reset_index().sample(n)['DPTO'].values\n",
    "\n",
    "# OR Choose directly by DPTO code\n",
    "# seleccion_DPTOS = np.array([6105]) # Bolivar 6105 \n",
    "# seleccion_DPTOS = np.array([6861, 6364]) # V Lopez 6861  # G. Rodriguez 6364\n",
    "\n",
    "#check cumsum\n",
    "# most_populous.cumsum()/most_populous.sum()\n",
    "\n",
    "# This means we will need some of the AGLOS and not others. (e.g. don't use AGLO Cordoba if data is for BA)\n",
    "# radio_ref_sel_aglos = radio_ref.loc[radio_ref.DPTO.isin(seleccion_DPTOS)]\n",
    "# radio_ref_sel_aglos['AGLOMERADO'].value_counts()\n",
    "# radio_ref_sel_aglos"
   ]
  },
  {
   "cell_type": "markdown",
   "metadata": {},
   "source": [
    "## Load indiv level census data\n",
    "\n",
    "## Start with VIVIENDA and HOGARES\n",
    "\n",
    "We use dask for loading large datasets. Works the same as pandas but manages memory to avoid crashing.\n",
    "Still it will be better to use usecols for choosing the necessary variables.\n",
    "\n",
    "We load VIVIVENDA dataset, then merge HOGARES. \n",
    "PERSONA is merged later, after we saved the partial data. Cause crashes are not infrequent."
   ]
  },
  {
   "cell_type": "code",
   "execution_count": 22,
   "metadata": {},
   "outputs": [
    {
     "name": "stdout",
     "output_type": "stream",
     "text": [
      "[########################################] | 100% Completed | 14.0s\n",
      "[########################################] | 100% Completed | 51.5s\n",
      "[########################################] | 100% Completed |  1min  5.3s\n"
     ]
    }
   ],
   "source": [
    "import dask.dataframe as dd\n",
    "from dask.diagnostics import ProgressBar\n",
    "\n",
    "#Esto es para extraer las viviendas, hogares y personas de los partidos (DPTOs) en cuestion.\n",
    "# seleccion_DPTOS y usecols nos sirven para no cargar data innecesaria.\n",
    "VIVIENDA = dd.read_csv('./VIVIENDA.csv', sep = ';', usecols = ['VIVIENDA_REF_ID', 'RADIO_REF_ID', 'TIPVV', 'V01'])\n",
    "VIVIENDA = VIVIENDA.merge(radio_ref[['RADIO_REF_ID', 'DPTO']])\n",
    "VIVIENDA_ = VIVIENDA.loc[VIVIENDA.DPTO.isin(seleccion_DPTOS)].sample(.1)\n",
    "with ProgressBar():\n",
    "    VIVIENDA_REF_ID_sel = VIVIENDA_['VIVIENDA_REF_ID'].values.compute()\n",
    "\n",
    "HOGAR = dd.read_csv('./HOGAR.csv', sep = ';', usecols = ['HOGAR_REF_ID', 'VIVIENDA_REF_ID', 'H05', 'H06', 'H07', 'H08',\n",
    "       'H09', 'H10', 'H11', 'H12', 'H13', 'H14', 'H15', 'H16', 'PROP', 'TOTPERS']) # csv is too big, so it is dask-loaded. Not sure it's efficient thou\n",
    "# For example computing len takes ages\n",
    "# len(HOGAR.VIVIENDA_REF_ID)\n",
    "HOGAR_ = HOGAR.loc[HOGAR.VIVIENDA_REF_ID.isin(VIVIENDA_REF_ID_sel)]\n",
    "with ProgressBar():\n",
    "    HOGAR_REF_ID_sel = HOGAR_['HOGAR_REF_ID'].values.compute()\n",
    "\n",
    "tabla_censo = VIVIENDA_.merge(HOGAR_)#.merge(PERSONA_)\n",
    "\n",
    "IX_TOT = tabla_censo.groupby('HOGAR_REF_ID').count().iloc[:, 0].reset_index()\n",
    "IX_TOT.columns = ['HOGAR_REF_ID', 'IX_TOT']\n",
    "\n",
    "tabla_censo = tabla_censo.merge(IX_TOT)\n",
    "\n",
    "with ProgressBar():\n",
    "    table = tabla_censo.compute()\n"
   ]
  },
  {
   "cell_type": "markdown",
   "metadata": {},
   "source": [
    "## Armonizar para adecuar dataset Censo a las opciones rta de EPH.\n",
    "No correr 2 veces"
   ]
  },
  {
   "cell_type": "code",
   "execution_count": 23,
   "metadata": {
    "collapsed": true,
    "scrolled": true
   },
   "outputs": [],
   "source": [
    "# Approach: modify Census to fit EPH\n",
    "table['V01'] = table['V01'].map({1:1, 2:6, 3:6, 4:2, 5:3, 6:4, 7:5, 8:6})\n",
    "table['H06'] = table['H06'].map({1:1, 2:2, 3:3, 4:4, 5:5, 6:6, 7:7, 8:9})\n",
    "table['H09'] = table['H09'].map({1:1, 2:2, 3:3, 4:4, 5:4, 6:4})\n",
    "table['H16'] = table['H16'].clip(0, 9)\n",
    "table['H14'] = table['H14'].map({1:1, 2:4, 3:2, 4:2, 5:4, 6:3, 7:4, 8:9})\n",
    "table['H13'] = table['H13'].map({1:1, 2:2, 4:0})\n",
    "# table['P07'] = table['P07'].map({1:1, 2:2, 0:2})\n",
    "\n",
    "# saber de que aglo es la persona. Se usa los resultados de cada aglo.\n",
    "table = table.merge(radio_ref[['RADIO_REF_ID','AGLOMERADO']]) \n",
    "\n"
   ]
  },
  {
   "cell_type": "markdown",
   "metadata": {},
   "source": [
    "#### We want to save in case merging PERSONA crashes."
   ]
  },
  {
   "cell_type": "code",
   "execution_count": 16,
   "metadata": {
    "collapsed": true
   },
   "outputs": [],
   "source": [
    "# Only once to save time in the future.\n",
    "# name =  'bolivar'#''\n",
    "# name =  'vlopez_rodriguez'#''\n",
    "# name =  'rand'#''\n",
    "# table.to_csv('./sample_censo_table'+str(n).zfill(3)+name+'.csv', index = False)\n",
    "table.to_csv('./sample_censo_table_f.1BA.csv', index = False)\n",
    "\n",
    "# table = pd.read_csv('./sample_censo_table'+str(n).zfill(3)+'.csv')#.csv\n"
   ]
  },
  {
   "cell_type": "markdown",
   "metadata": {},
   "source": [
    "## Merge PERSONA"
   ]
  },
  {
   "cell_type": "code",
   "execution_count": 24,
   "metadata": {},
   "outputs": [
    {
     "name": "stdout",
     "output_type": "stream",
     "text": [
      "[########################################] | 100% Completed |  1min 27.9s\n"
     ]
    }
   ],
   "source": [
    "PERSONA = dd.read_csv('./PERSONA.csv', sep = ';', usecols = ['PERSONA_REF_ID', 'HOGAR_REF_ID', 'P01', 'P02', 'P03', 'P05', 'P06',\n",
    "       'P07', 'P12', 'P08', 'P09', 'P10', 'CONDACT'])\n",
    "PERSONA_ = PERSONA.loc[PERSONA.HOGAR_REF_ID.isin(HOGAR_REF_ID_sel)]\n",
    "\n",
    "with ProgressBar():\n",
    "    PERSONA_ = PERSONA_.compute()\n",
    "\n",
    "table = table.merge(PERSONA_)\n",
    "\n",
    "table['P07'] = table['P07'].map({1:1, 2:2, 0:2})\n",
    "\n",
    "# Only once to save time in the future\n",
    "# table.to_csv('./sample_censo_table'+str(n).zfill(3)+name+'.csv', index = False)\n",
    "# table.to_csv('./sample_censo_table_f.01.csv', index = False)\n",
    "table.to_csv('./sample_censo_table_f.1BA.csv', index = False)\n"
   ]
  },
  {
   "cell_type": "markdown",
   "metadata": {},
   "source": [
    "## Save Full Censo 2010 data"
   ]
  },
  {
   "cell_type": "code",
   "execution_count": 11,
   "metadata": {},
   "outputs": [
    {
     "name": "stdout",
     "output_type": "stream",
     "text": [
      "(4476465, 34)\n"
     ]
    },
    {
     "data": {
      "text/html": [
       "<div>\n",
       "<style scoped>\n",
       "    .dataframe tbody tr th:only-of-type {\n",
       "        vertical-align: middle;\n",
       "    }\n",
       "\n",
       "    .dataframe tbody tr th {\n",
       "        vertical-align: top;\n",
       "    }\n",
       "\n",
       "    .dataframe thead th {\n",
       "        text-align: right;\n",
       "    }\n",
       "</style>\n",
       "<table border=\"1\" class=\"dataframe\">\n",
       "  <thead>\n",
       "    <tr style=\"text-align: right;\">\n",
       "      <th></th>\n",
       "      <th>VIVIENDA_REF_ID</th>\n",
       "      <th>RADIO_REF_ID</th>\n",
       "      <th>TIPVV</th>\n",
       "      <th>V01</th>\n",
       "      <th>DPTO</th>\n",
       "      <th>HOGAR_REF_ID</th>\n",
       "      <th>H05</th>\n",
       "      <th>H06</th>\n",
       "      <th>H07</th>\n",
       "      <th>H08</th>\n",
       "      <th>...</th>\n",
       "      <th>P02</th>\n",
       "      <th>P03</th>\n",
       "      <th>P05</th>\n",
       "      <th>P06</th>\n",
       "      <th>P07</th>\n",
       "      <th>P12</th>\n",
       "      <th>P08</th>\n",
       "      <th>P09</th>\n",
       "      <th>P10</th>\n",
       "      <th>CONDACT</th>\n",
       "    </tr>\n",
       "  </thead>\n",
       "  <tbody>\n",
       "    <tr>\n",
       "      <th>4025913</th>\n",
       "      <td>5522547</td>\n",
       "      <td>17540</td>\n",
       "      <td>1</td>\n",
       "      <td>1.0</td>\n",
       "      <td>6413</td>\n",
       "      <td>4955999</td>\n",
       "      <td>1</td>\n",
       "      <td>4.0</td>\n",
       "      <td>1</td>\n",
       "      <td>1</td>\n",
       "      <td>...</td>\n",
       "      <td>2</td>\n",
       "      <td>61</td>\n",
       "      <td>1</td>\n",
       "      <td>0</td>\n",
       "      <td>1</td>\n",
       "      <td>2</td>\n",
       "      <td>2</td>\n",
       "      <td>2</td>\n",
       "      <td>1</td>\n",
       "      <td>1</td>\n",
       "    </tr>\n",
       "    <tr>\n",
       "      <th>1937464</th>\n",
       "      <td>2537276</td>\n",
       "      <td>6920</td>\n",
       "      <td>1</td>\n",
       "      <td>1.0</td>\n",
       "      <td>6427</td>\n",
       "      <td>2233811</td>\n",
       "      <td>1</td>\n",
       "      <td>2.0</td>\n",
       "      <td>1</td>\n",
       "      <td>1</td>\n",
       "      <td>...</td>\n",
       "      <td>2</td>\n",
       "      <td>83</td>\n",
       "      <td>1</td>\n",
       "      <td>0</td>\n",
       "      <td>1</td>\n",
       "      <td>2</td>\n",
       "      <td>2</td>\n",
       "      <td>2</td>\n",
       "      <td>1</td>\n",
       "      <td>3</td>\n",
       "    </tr>\n",
       "    <tr>\n",
       "      <th>1266747</th>\n",
       "      <td>2199796</td>\n",
       "      <td>5938</td>\n",
       "      <td>1</td>\n",
       "      <td>6.0</td>\n",
       "      <td>6408</td>\n",
       "      <td>1902924</td>\n",
       "      <td>1</td>\n",
       "      <td>2.0</td>\n",
       "      <td>1</td>\n",
       "      <td>1</td>\n",
       "      <td>...</td>\n",
       "      <td>2</td>\n",
       "      <td>23</td>\n",
       "      <td>1</td>\n",
       "      <td>0</td>\n",
       "      <td>1</td>\n",
       "      <td>1</td>\n",
       "      <td>2</td>\n",
       "      <td>5</td>\n",
       "      <td>2</td>\n",
       "      <td>1</td>\n",
       "    </tr>\n",
       "    <tr>\n",
       "      <th>2108944</th>\n",
       "      <td>2581371</td>\n",
       "      <td>7040</td>\n",
       "      <td>1</td>\n",
       "      <td>1.0</td>\n",
       "      <td>6427</td>\n",
       "      <td>2281593</td>\n",
       "      <td>1</td>\n",
       "      <td>3.0</td>\n",
       "      <td>1</td>\n",
       "      <td>1</td>\n",
       "      <td>...</td>\n",
       "      <td>2</td>\n",
       "      <td>33</td>\n",
       "      <td>1</td>\n",
       "      <td>0</td>\n",
       "      <td>1</td>\n",
       "      <td>1</td>\n",
       "      <td>2</td>\n",
       "      <td>6</td>\n",
       "      <td>1</td>\n",
       "      <td>1</td>\n",
       "    </tr>\n",
       "    <tr>\n",
       "      <th>2863906</th>\n",
       "      <td>2743779</td>\n",
       "      <td>7550</td>\n",
       "      <td>1</td>\n",
       "      <td>1.0</td>\n",
       "      <td>6427</td>\n",
       "      <td>2474703</td>\n",
       "      <td>1</td>\n",
       "      <td>4.0</td>\n",
       "      <td>1</td>\n",
       "      <td>1</td>\n",
       "      <td>...</td>\n",
       "      <td>1</td>\n",
       "      <td>4</td>\n",
       "      <td>1</td>\n",
       "      <td>0</td>\n",
       "      <td>1</td>\n",
       "      <td>1</td>\n",
       "      <td>1</td>\n",
       "      <td>1</td>\n",
       "      <td>0</td>\n",
       "      <td>0</td>\n",
       "    </tr>\n",
       "  </tbody>\n",
       "</table>\n",
       "<p>5 rows × 34 columns</p>\n",
       "</div>"
      ],
      "text/plain": [
       "         VIVIENDA_REF_ID  RADIO_REF_ID  TIPVV  V01  DPTO  HOGAR_REF_ID  H05  \\\n",
       "4025913          5522547         17540      1  1.0  6413       4955999    1   \n",
       "1937464          2537276          6920      1  1.0  6427       2233811    1   \n",
       "1266747          2199796          5938      1  6.0  6408       1902924    1   \n",
       "2108944          2581371          7040      1  1.0  6427       2281593    1   \n",
       "2863906          2743779          7550      1  1.0  6427       2474703    1   \n",
       "\n",
       "         H06  H07  H08   ...     P02  P03  P05  P06  P07  P12  P08  P09  P10  \\\n",
       "4025913  4.0    1    1   ...       2   61    1    0    1    2    2    2    1   \n",
       "1937464  2.0    1    1   ...       2   83    1    0    1    2    2    2    1   \n",
       "1266747  2.0    1    1   ...       2   23    1    0    1    1    2    5    2   \n",
       "2108944  3.0    1    1   ...       2   33    1    0    1    1    2    6    1   \n",
       "2863906  4.0    1    1   ...       1    4    1    0    1    1    1    1    0   \n",
       "\n",
       "         CONDACT  \n",
       "4025913        1  \n",
       "1937464        3  \n",
       "1266747        1  \n",
       "2108944        1  \n",
       "2863906        0  \n",
       "\n",
       "[5 rows x 34 columns]"
      ]
     },
     "execution_count": 11,
     "metadata": {},
     "output_type": "execute_result"
    }
   ],
   "source": [
    "# AGLOS_censo = \n",
    "radio_ref_sel = radio_ref.loc[table['RADIO_REF_ID'].drop_duplicates().values]\n",
    "aglos_sel = radio_ref_sel.AGLOMERADO.unique()\n",
    "\n",
    "## Entradas de censo de los DPTOs elegidos\n",
    "\n",
    "print(table.shape) #cuanta (gente, variables)?\n",
    "table.sample(5)"
   ]
  },
  {
   "cell_type": "markdown",
   "metadata": {},
   "source": [
    "# Old code (don't run)"
   ]
  },
  {
   "cell_type": "markdown",
   "metadata": {},
   "source": [
    "### EPH va a adoptar nombres de columna del censo."
   ]
  },
  {
   "cell_type": "code",
   "execution_count": 89,
   "metadata": {
    "collapsed": true
   },
   "outputs": [],
   "source": [
    "# # Misma info, distinto nombre. \n",
    "# # Censo INDEC \n",
    "# md_1 = table[['IX_TOT', 'P02', 'P03', 'CONDACT', 'AGLOMERADO', #las que no se erran, cant pers, sexo, edad, act, aglo\n",
    "#     'V01', 'H05', 'H06', 'H07', 'H08', 'H09', 'H10', 'H11', 'H12', 'H16', 'H15', 'PROP', 'H14', 'H13',\n",
    "#       'P07', 'P08', 'P09', 'P10', 'P05']] #las x que buscan matches un poquito mas laxamente\n",
    "\n",
    "\n",
    "# #Mismas cosas, distinto nombre de columna para\n",
    "# # EPH INDEC\n",
    "# md_2 = EPH[['IX_TOT','CH04','CH06','CONDACT', 'AGLOMERADO',\n",
    "#     'IV1', 'IV3', 'IV4','IV5','IV6','IV7','IV8','IV10','IV11','II1','II2','II7','II8','II9',\n",
    "#     'CH09','CH10','CH12','CH13','CH15']]\n",
    "\n",
    "# md_2.columns = md_1.columns\n"
   ]
  },
  {
   "cell_type": "code",
   "execution_count": null,
   "metadata": {
    "collapsed": true
   },
   "outputs": [],
   "source": [
    "# # DEBUGGER\n",
    "# # IF we want to see in each column what are the percentages, as a clue to where there can be issues\n",
    "# # OK control check. Control there is less likely confusion. \n",
    "\n",
    "# for i in range(len(md_1.columns))[:2]: \n",
    "#     print('\\n')\n",
    "#     for md in [md_1, md_2]:\n",
    "#         col = md.columns[i]\n",
    "#         print(col)\n",
    "#         print(md[col].value_counts().sort_index()/len(md))\n"
   ]
  },
  {
   "cell_type": "markdown",
   "metadata": {},
   "source": []
  },
  {
   "cell_type": "code",
   "execution_count": 90,
   "metadata": {
    "collapsed": true
   },
   "outputs": [],
   "source": [
    "# import numpy as np"
   ]
  },
  {
   "cell_type": "code",
   "execution_count": 91,
   "metadata": {
    "collapsed": true,
    "scrolled": false
   },
   "outputs": [],
   "source": [
    "# ### The 'y' variables will be predicted. K nearest neighbors is used.\n",
    "# ## Variables in the EPH survey but not in the Censo.\n",
    "# ## Preguntas de EncuestaPH que no estan en Censo.\n",
    "\n",
    "# y_cols = ['P21','P47T','CAT_INAC','CAT_OCUP','CH07','CH08','CH16','TOT_P12','T_VI','V10_M','V11_M','V12_M','V18_M','V19_AM','V21_M','V2_M','V3_M','V4_M','V5_M','V8_M','V9_M',\n",
    "#          'PP07G1', 'PP07G2', 'PP07G3', 'PP07G4', 'PP07G_59','PP07H','PP07I','PP07J','PP07K','PP08D1','PP08D4','PP08F1','PP08F2','PP08J1','PP08J2','PP08J3','PP10A','PP10C','PP10D','PP10E']\n",
    "\n",
    "# #Remove ill predicted ones after trying them out\n",
    "# y_cols = list(set(y_cols) - set(['PP10A', 'V11_M', 'PP08D4', 'PP08J3', 'PP08F1', 'V18_M', 'V10_M',\n",
    "#        'V8_M', 'V4_M', 'PP08F2', 'V21_M', 'V9_M', 'PP08J2', 'PP08J1',\n",
    "#        'V19_AM']))\n",
    "\n",
    "\n",
    "\n",
    "# train = md_2.join(EPH[y_cols]).fillna(0)\n",
    "# test = md_1.fillna(0).astype(int)\n",
    "\n",
    "# # Grupo edad (deciles)\n",
    "\n",
    "# # Numbers 0 to 9 for age deciles. \n",
    "# # Estas en el decil de edad. x% de la gente menor que uno.\n",
    "# train['P03'] = np.floor(10*train[['P03']].rank(pct = 1)-0.01).astype(int)\n",
    "# test['P03'] = np.floor(10*test[['P03']].rank(pct = 1)-0.01).astype(int)\n",
    "\n",
    "# # train['CH07'] = train['CONDACT']\n",
    "\n",
    "# # Superweight CONDACT\n",
    "# train['CONDACT'] = 100*train['CONDACT']\n",
    "# test['CONDACT'] = 100*test['CONDACT']\n",
    "# # Superweight CONDACT\n",
    "# train['AGLOMERADO'] = 10*train['AGLOMERADO']\n",
    "# test['AGLOMERADO'] = 10*test['AGLOMERADO']"
   ]
  },
  {
   "cell_type": "code",
   "execution_count": 92,
   "metadata": {},
   "outputs": [
    {
     "data": {
      "text/plain": [
       "Index(['IX_TOT', 'P02', 'P03', 'CONDACT', 'AGLOMERADO', 'V01', 'H05', 'H06',\n",
       "       'H07', 'H08', 'H09', 'H10', 'H11', 'H12', 'H16', 'H15', 'PROP', 'H14',\n",
       "       'H13', 'P07', 'P08', 'P09', 'P10', 'P05'],\n",
       "      dtype='object')"
      ]
     },
     "execution_count": 92,
     "metadata": {},
     "output_type": "execute_result"
    }
   ],
   "source": [
    "# md_1.columns"
   ]
  },
  {
   "cell_type": "markdown",
   "metadata": {},
   "source": []
  },
  {
   "cell_type": "code",
   "execution_count": 25,
   "metadata": {
    "collapsed": true
   },
   "outputs": [],
   "source": [
    "# res_1 = pd.read_csv('./test_result_'+str(n).zfill(3)+'dpto_1.csv')"
   ]
  },
  {
   "cell_type": "code",
   "execution_count": 26,
   "metadata": {
    "collapsed": true
   },
   "outputs": [],
   "source": [
    "# res_0 = pd.read_csv('./test_result_'+str(n).zfill(3)+'dpto.csv')"
   ]
  },
  {
   "cell_type": "code",
   "execution_count": 27,
   "metadata": {},
   "outputs": [
    {
     "ename": "NameError",
     "evalue": "name 'res_0' is not defined",
     "output_type": "error",
     "traceback": [
      "\u001b[0;31m---------------------------------------------------------------------------\u001b[0m",
      "\u001b[0;31mNameError\u001b[0m                                 Traceback (most recent call last)",
      "\u001b[0;32m<ipython-input-27-423399ca1037>\u001b[0m in \u001b[0;36m<module>\u001b[0;34m()\u001b[0m\n\u001b[1;32m      1\u001b[0m \u001b[0;31m# porcentaje error por reshuffle:\u001b[0m\u001b[0;34m\u001b[0m\u001b[0;34m\u001b[0m\u001b[0m\n\u001b[0;32m----> 2\u001b[0;31m \u001b[0mperr_\u001b[0m \u001b[0;34m=\u001b[0m \u001b[0mnp\u001b[0m\u001b[0;34m.\u001b[0m\u001b[0mround\u001b[0m\u001b[0;34m(\u001b[0m\u001b[0;36m100\u001b[0m\u001b[0;34m*\u001b[0m\u001b[0mabs\u001b[0m\u001b[0;34m(\u001b[0m\u001b[0mres_0\u001b[0m\u001b[0;34m.\u001b[0m\u001b[0msum\u001b[0m\u001b[0;34m(\u001b[0m\u001b[0;34m)\u001b[0m \u001b[0;34m-\u001b[0m \u001b[0mres_1\u001b[0m\u001b[0;34m.\u001b[0m\u001b[0msum\u001b[0m\u001b[0;34m(\u001b[0m\u001b[0;34m)\u001b[0m\u001b[0;34m)\u001b[0m\u001b[0;34m/\u001b[0m\u001b[0mres_0\u001b[0m\u001b[0;34m.\u001b[0m\u001b[0msum\u001b[0m\u001b[0;34m(\u001b[0m\u001b[0;34m)\u001b[0m\u001b[0;34m,\u001b[0m \u001b[0;36m1\u001b[0m\u001b[0;34m)\u001b[0m\u001b[0;34m.\u001b[0m\u001b[0msort_values\u001b[0m\u001b[0;34m(\u001b[0m\u001b[0;34m)\u001b[0m\u001b[0;34m\u001b[0m\u001b[0m\n\u001b[0m\u001b[1;32m      3\u001b[0m \u001b[0;34m\u001b[0m\u001b[0m\n\u001b[1;32m      4\u001b[0m \u001b[0;31m# perr_.tail(15)#.index\u001b[0m\u001b[0;34m\u001b[0m\u001b[0;34m\u001b[0m\u001b[0m\n\u001b[1;32m      5\u001b[0m \u001b[0;31m# Bad ones: ['PP10A', 'V11_M', 'PP08D4', 'PP08J3', 'PP08F1', 'V18_M', 'V10_M',\u001b[0m\u001b[0;34m\u001b[0m\u001b[0;34m\u001b[0m\u001b[0m\n",
      "\u001b[0;31mNameError\u001b[0m: name 'res_0' is not defined"
     ]
    }
   ],
   "source": [
    "# # porcentaje error por reshuffle: \n",
    "# perr_ = np.round(100*abs(res_0.sum() - res_1.sum())/res_0.sum(), 1).sort_values()\n",
    "\n",
    "# # perr_.tail(15)#.index\n",
    "# # Bad ones: ['PP10A', 'V11_M', 'PP08D4', 'PP08J3', 'PP08F1', 'V18_M', 'V10_M',\n",
    "# #        'V8_M', 'V4_M', 'PP08F2', 'V21_M', 'V9_M', 'PP08J2', 'PP08J1',\n",
    "# #        'V19_AM']\n"
   ]
  },
  {
   "cell_type": "code",
   "execution_count": null,
   "metadata": {
    "collapsed": true
   },
   "outputs": [],
   "source": [
    "# import numpy as np\n",
    "# # Agregar $$$. En millones de usd\n",
    "# # En millones de usd (USD = 30 ARS)\n",
    "# _USD = 30.5 #ARS\n",
    "# np.round(res_1.sum()/_USD/1e6, 1).sort_values().tail(14)\n",
    "\n",
    "# #PPALES\n",
    "# # negocio que no trabajo no laborable (V9_M)\n",
    "# # alquiler no laborable (V8_M)\n",
    "# # indemnizacion despido no laborable (V3_M)\n",
    "# # comision Ocupacion ppal (PP08F1)\n",
    "# # cuota alimentos no laborable (V12_M)\n",
    "# # subsidio ayuda social no laborable (V5_M)\n",
    "# # TOTAL otras ocupacions(TOT_P12)\n",
    "# # jubilacion no laborable (V2_M)\n",
    "# # TOTAL no laborables (T_VI)\n",
    "# # sueldo Ocupacion ppal(PP08D1)\n",
    "# # TOTAL Ocupacion ppal (P21)\n",
    "# # TOTAL TOTAL (P47T)"
   ]
  },
  {
   "cell_type": "code",
   "execution_count": null,
   "metadata": {
    "collapsed": true
   },
   "outputs": [],
   "source": [
    "# np.round(res_1.sum()/1e6/_USD, 1).sort_values().tail(14).index"
   ]
  },
  {
   "cell_type": "code",
   "execution_count": null,
   "metadata": {
    "collapsed": true,
    "scrolled": false
   },
   "outputs": [],
   "source": [
    "# PERS_DPTO = table[['PERSONA_REF_ID', 'RADIO_REF_ID']].merge(radio_ref_sel[['RADIO_REF_ID', 'DPTO' #, 'NOMDPTO', 'NOMPROV'\n",
    "#                                                                       ]]).drop(['RADIO_REF_ID'], axis = 1)\n",
    "\n",
    "# res = res_1\n",
    "# res_DPTO = res.merge(PERS_DPTO, on = 'PERSONA_REF_ID')\n",
    "\n",
    "# #en miles de USD\n",
    "# res_byDPTO = res_DPTO.groupby(['DPTO'])[[  'V3_M', 'V12_M', 'V5_M', 'TOT_P12',\n",
    "#        'V2_M', 'T_VI', 'PP08D1', 'P21', 'P47T']].sum()\n",
    "\n",
    "# np.round(100*res_byDPTO.div(res_byDPTO.P47T, axis = 0), 1).sort_values(by = 'P21').head() #percentage\n",
    "# # np.round(res_byDPTO/1e3/_USD, 1) #in 1000 USD"
   ]
  },
  {
   "cell_type": "code",
   "execution_count": null,
   "metadata": {
    "collapsed": true
   },
   "outputs": [],
   "source": [
    "# PERS_DPTO = table[['PERSONA_REF_ID', 'RADIO_REF_ID']].merge(radio_ref_sel[['RADIO_REF_ID', 'DPTO', 'NOMDPTO', 'NOMPROV']]\n",
    "#                                                            )#.drop(['RADIO_REF_ID'], axis = 1)\n",
    "\n",
    "# res = res_1\n",
    "# res_DPTO = res.merge(PERS_DPTO, on = 'PERSONA_REF_ID')\n",
    "\n",
    "# # variables = ['V9_M', 'V8_M', 'PP08F1', 'V3_M', 'V12_M', 'V5_M', 'TOT_P12',\n",
    "# #        'V2_M', 'T_VI', 'PP08D1', 'P21', 'P47T']\n",
    "# variables = [  'V3_M', 'V12_M', 'V5_M', 'TOT_P12',\n",
    "#        'V2_M', 'T_VI', 'PP08D1', 'P21', 'P47T']\n",
    "# #en miles de USD\n",
    "# # res_byDPTO = res_DPTO.groupby(['DPTO', 'NOMDPTO', 'NOMPROV'])[variables].sum()\n",
    "# res_byDPTO = res_DPTO.groupby(['RADIO_REF_ID'])[variables].sum()\n",
    "\n",
    "# # np.round(100*res_byDPTO.div(res_byDPTO.P47T, axis = 0), 1).sort_values(by = 'P21').head() #percentage\n",
    "# np.round(res_byDPTO/1e3/_USD, 1) #in 1000 USD"
   ]
  },
  {
   "cell_type": "code",
   "execution_count": null,
   "metadata": {
    "collapsed": true,
    "scrolled": false
   },
   "outputs": [],
   "source": [
    "# # Save info at 'radio' level\n",
    "# res_byDPTO.to_csv('res_byradio_sample_'+str(n).zfill(3)+'.csv')"
   ]
  },
  {
   "cell_type": "code",
   "execution_count": null,
   "metadata": {
    "collapsed": true,
    "scrolled": false
   },
   "outputs": [],
   "source": [
    "# # Desoc, NA = 0. Not good.\n",
    "# variables = ['PP07J', #turno habitual\n",
    "#  'PP10D', #Desoc. Ha trabajado alguna vez?\n",
    "#  'PP10C', #Desoc. Hizo changa mientras buscaba?\n",
    "#  'PP07K', # Oc. ppal. Inc. serv. dom. Cobra con recibo\n",
    "#  'PP07G2', # Oc. ppal. Inc. serv. dom. aguinaldo\n",
    "#  'PP07G_59', # Oc. ppal. Inc. serv. dom. ninguno\n",
    "#  'PP07G3', # Oc. ppal. Inc. serv. dom. dias enfermedad\n",
    "#  'PP10E', # Desoc. Tiempo de que termino su ultimo trabajo/changa\n",
    "#  'PP07H', # Oc. ppal. Inc. serv. dom. descuento jubilatorio\n",
    "#  'PP07G4', # Oc. ppal. Inc. serv. dom. obra social\n",
    "#  'PP07I', # Oc. ppal. Inc. serv. dom. Aporta jub por sí mismo \n",
    "#  'PP07G1', # Oc. ppal. Inc. serv. dom. vacaciones pagas\n",
    "#  'CH07'] #Est civil\n",
    "\n",
    "# #en miles de USD\n",
    "# # res_byDPTO = res_DPTO.groupby(['DPTO', 'NOMDPTO', 'NOMPROV'])[variables].mean()\n",
    "# res_byDPTO = res_DPTO.groupby(['RADIO_REF_ID'])[variables].mean()\n",
    "\n",
    "\n",
    "# s = np.round(res_byDPTO, 2).sort_values(by = 'PP07K')#.head() \n",
    "# s.style.bar(color='#d65f5f')\n",
    "# #  'CAT_OCUP', #CAT_INAC\n",
    "# #  'CAT_INAC', #CAT_INAC\n",
    "\n",
    "# #  'CH08', obra social/salud. nums altos como para mean\n",
    "# # 'CH16', # Donde vivia hace 5. Desconfiable\n"
   ]
  },
  {
   "cell_type": "code",
   "execution_count": null,
   "metadata": {
    "collapsed": true
   },
   "outputs": [],
   "source": [
    "# from sklearn.neighbors import NearestNeighbors\n",
    "# neigh = NearestNeighbors(n_neighbors=1)\n",
    "# neigh.fit(train[x_cols], train.sample(frac = 1)[y_cols])\n",
    "# i = 60\n",
    "# print(neigh.kneighbors([test.iloc[i].values], return_distance=True))\n",
    "# train.iloc[7022][x_cols] - test.iloc[i]"
   ]
  },
  {
   "cell_type": "code",
   "execution_count": null,
   "metadata": {
    "collapsed": true
   },
   "outputs": [],
   "source": [
    "# from IPython.core.display import display, HTML\n",
    "# display(HTML(\"<style>.container { width:100% !important; }</style>\"))"
   ]
  },
  {
   "cell_type": "code",
   "execution_count": null,
   "metadata": {
    "collapsed": true,
    "scrolled": true
   },
   "outputs": [],
   "source": [
    "# for col in result.columns:\n",
    "#     print('\\n')\n",
    "#     print(col)\n",
    "#     df_ = result.loc[result.P03 > 2]\n",
    "#     print(df_[col].value_counts().sort_index())"
   ]
  },
  {
   "cell_type": "code",
   "execution_count": null,
   "metadata": {
    "collapsed": true
   },
   "outputs": [],
   "source": []
  }
 ],
 "metadata": {
  "kernelspec": {
   "display_name": "Python 2",
   "language": "python",
   "name": "python2"
  },
  "language_info": {
   "codemirror_mode": {
    "name": "ipython",
    "version": 2
   },
   "file_extension": ".py",
   "mimetype": "text/x-python",
   "name": "python",
   "nbconvert_exporter": "python",
   "pygments_lexer": "ipython2",
   "version": "2.7.15"
  }
 },
 "nbformat": 4,
 "nbformat_minor": 2
}
