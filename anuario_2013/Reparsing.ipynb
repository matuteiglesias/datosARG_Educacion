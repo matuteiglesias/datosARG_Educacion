{
 "cells": [
  {
   "cell_type": "code",
   "execution_count": 2,
   "metadata": {},
   "outputs": [],
   "source": [
    "import pandas as pd\n",
    "import string\n",
    "letters = string.ascii_uppercase\n",
    "\n",
    "pd.options.display.max_columns = 99"
   ]
  },
  {
   "cell_type": "code",
   "execution_count": 3,
   "metadata": {},
   "outputs": [
    {
     "data": {
      "text/plain": [
       "array([ 0,  1,  2,  3,  4,  5,  6,  7,  8,  9, 10, 11, 12, 13, 14, 15, 16,\n",
       "       17, 18])"
      ]
     },
     "execution_count": 3,
     "metadata": {},
     "output_type": "execute_result"
    }
   ],
   "source": [
    "import numpy as np\n",
    "np.arange(19)"
   ]
  },
  {
   "cell_type": "code",
   "execution_count": 65,
   "metadata": {},
   "outputs": [
    {
     "name": "stdout",
     "output_type": "stream",
     "text": [
      "2\n",
      "4\n",
      "5\n",
      "6\n",
      "7\n",
      "8\n",
      "9\n",
      "10\n",
      "11\n",
      "12\n",
      "13\n",
      "14\n",
      "Could not parse column 12 in dataset 14\n",
      "15\n",
      "16\n",
      "17\n",
      "18\n"
     ]
    }
   ],
   "source": [
    "for i in [ 2,  4,  5,  6,  7,  8,  9, 10, 11, 12, 13, 14, 15, 16, 17, 18]:\n",
    "# for i in [ 14]:\n",
    "    print(i)\n",
    "#     filename = './raw_tabula/tabula-Anuario_2013('+str(i)+')'\n",
    "    filename = './raw_tabula/tablas_extra_privada/tabula-Anuario_2013('+str(i)+')'\n",
    "#     print(filename)\n",
    "    df = pd.read_csv(filename+'.csv', header = None, dtype = str).fillna('-')\n",
    "#     display(df.head())\n",
    "    \n",
    "    df_data = df.iloc[1:].reset_index(drop = True)\n",
    "    df_data.columns = df_data.columns.astype(str).str.zfill(2)\n",
    "\n",
    "    white_space_count = df_data.apply(lambda x: x.str.count(' ')).mean().round().astype(int).iloc[1:]\n",
    "    cols_to_fix = white_space_count.loc[white_space_count > 0].reset_index()\n",
    "    cols_to_fix.columns = ['col', 'n']\n",
    "\n",
    "#     print(cols_to_fix)\n",
    "    df_fixed_col_list = []\n",
    "    for j, row in cols_to_fix.iterrows():    \n",
    "        col = row.col\n",
    "        n = row.n\n",
    "        colnames = [col+L for L in letters]\n",
    "#         print(colnames)\n",
    "        try:\n",
    "            df_fixed_col = pd.DataFrame(df_data[col].str.split(' ').tolist(),\n",
    "                                           columns = colnames[:n + 1])\n",
    "            df_fixed_col_list += [df_fixed_col]\n",
    "        except:\n",
    "            print('Could not parse column '+col+' in dataset '+str(i))\n",
    "\n",
    "    try:\n",
    "        df_fixed = pd.concat(df_fixed_col_list, axis = 1)   \n",
    "        result = pd.concat([df_data, df_fixed], 1).drop(cols_to_fix.col.values, 1)\n",
    "        result = result.sort_index(1)\n",
    "\n",
    "        header = df.iloc[0].reset_index(); header.columns = ['col', 'name']\n",
    "        header['col'] = header['col'].astype(str).str.zfill(2)\n",
    "        header_names = header.set_index('col').to_dict()['name']\n",
    "\n",
    "        result.columns = pd.Series([s[:2] for s in result.columns]).map(header_names)\n",
    "#         display(result.head())\n",
    "        result.to_csv(filename+'_sist_reparse.csv')\n",
    "    except:\n",
    "        print('Failed to parse dataset '+str(i))"
   ]
  },
  {
   "cell_type": "code",
   "execution_count": 64,
   "metadata": {},
   "outputs": [
    {
     "data": {
      "text/plain": [
       "[(3, ['Ciencias', 'del', 'Suelo']),\n",
       " (3, ['NI', 'RE', 'EGRE']),\n",
       " (3, ['2.883', '10.195', '1.000']),\n",
       " (3, ['2.883', '10.142', '990']),\n",
       " (3, ['476', '1.652', '260']),\n",
       " (3, ['35', '107', '6']),\n",
       " (3, ['21', '70', '7']),\n",
       " (3, ['395', '1.543', '101']),\n",
       " (3, ['47', '618', '13']),\n",
       " (3, ['34', '69', '19']),\n",
       " (3, ['35', '64', '32']),\n",
       " (3, ['75', '425', '33']),\n",
       " (3, ['23', '172', '63']),\n",
       " (3, ['153', '1.022', '121']),\n",
       " (3, ['32', '158', '33']),\n",
       " (3, ['18', '83', '12']),\n",
       " (3, ['0', '27', '3']),\n",
       " (3, ['20', '86', '4']),\n",
       " (3, ['56', '288', '34']),\n",
       " (3, ['28', '65', '10']),\n",
       " (3, ['73', '363', '27']),\n",
       " (3, ['16', '67', '11']),\n",
       " (3, ['12', '92', '0']),\n",
       " (3, ['17', '95', '9']),\n",
       " (3, ['46', '55', '0']),\n",
       " (3, ['-', '-', '-']),\n",
       " (3, ['-', '-', '-']),\n",
       " (3, ['-', '-', '-']),\n",
       " (3, ['28', '49', '0']),\n",
       " (3, ['601', '648', '6']),\n",
       " (3, ['-', '-', '-']),\n",
       " (3, ['14', '197', '27']),\n",
       " (4, ['6', '0', '6', '0']),\n",
       " (3, ['-', '-', '-']),\n",
       " (3, ['66', '293', '2']),\n",
       " (3, ['-', '-', '-']),\n",
       " (3, ['0', '10', '0']),\n",
       " (3, ['-', '-', '-']),\n",
       " (3, ['7', '26', '0']),\n",
       " (3, ['37', '119', '4']),\n",
       " (3, ['62', '278', '27']),\n",
       " (3, ['-', '-', '-']),\n",
       " (3, ['47', '298', '25']),\n",
       " (3, ['-', '-', '-']),\n",
       " (3, ['22', '62', '5']),\n",
       " (3, ['254', '636', '68']),\n",
       " (3, ['133', '399', '28']),\n",
       " (3, ['-', '-', '-']),\n",
       " (3, ['-', '-', '-']),\n",
       " (3, ['-', '-', '-']),\n",
       " (3, ['-', '-', '-']),\n",
       " (3, ['0', '53', '10']),\n",
       " (3, ['-', '-', '-']),\n",
       " (3, ['-', '-', '-']),\n",
       " (3, ['0', '53', '10']),\n",
       " (3, ['-', '-', '-']),\n",
       " (3, ['-', '-', '-']),\n",
       " (3, ['-', '-', '-']),\n",
       " (3, ['-', '-', '-']),\n",
       " (3, ['-', '-', '-']),\n",
       " (3, ['-', '-', '-']),\n",
       " (3, ['-', '-', '-']),\n",
       " (3, ['-', '-', '-'])]"
      ]
     },
     "execution_count": 64,
     "metadata": {},
     "output_type": "execute_result"
    }
   ],
   "source": [
    "# debug\n",
    "[(len(r), r) for r in df_data[col].str.split(' ').tolist()]"
   ]
  },
  {
   "cell_type": "code",
   "execution_count": null,
   "metadata": {},
   "outputs": [],
   "source": []
  }
 ],
 "metadata": {
  "kernelspec": {
   "display_name": "Python 3",
   "language": "python",
   "name": "python3"
  },
  "language_info": {
   "codemirror_mode": {
    "name": "ipython",
    "version": 3
   },
   "file_extension": ".py",
   "mimetype": "text/x-python",
   "name": "python",
   "nbconvert_exporter": "python",
   "pygments_lexer": "ipython3",
   "version": "3.6.7"
  }
 },
 "nbformat": 4,
 "nbformat_minor": 2
}
