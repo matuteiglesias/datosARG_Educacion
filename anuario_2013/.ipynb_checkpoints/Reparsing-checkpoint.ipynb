{
 "cells": [
  {
   "cell_type": "code",
   "execution_count": 2,
   "metadata": {},
   "outputs": [],
   "source": [
    "import pandas as pd\n",
    "import string\n",
    "letters = string.ascii_uppercase\n",
    "\n",
    "pd.options.display.max_columns = 99"
   ]
  },
  {
   "cell_type": "code",
   "execution_count": 3,
   "metadata": {},
   "outputs": [
    {
     "data": {
      "text/plain": [
       "array([ 0,  1,  2,  3,  4,  5,  6,  7,  8,  9, 10, 11, 12, 13, 14, 15, 16,\n",
       "       17, 18])"
      ]
     },
     "execution_count": 3,
     "metadata": {},
     "output_type": "execute_result"
    }
   ],
   "source": [
    "import numpy as np\n",
    "np.arange(19)"
   ]
  },
  {
   "cell_type": "code",
   "execution_count": 60,
   "metadata": {},
   "outputs": [
    {
     "name": "stdout",
     "output_type": "stream",
     "text": [
      "2\n",
      "4\n",
      "5\n",
      "6\n",
      "7\n",
      "8\n",
      "9\n",
      "10\n",
      "11\n",
      "12\n",
      "13\n",
      "14\n",
      "Could not parse column 12 in dataset 14\n",
      "15\n",
      "16\n",
      "17\n"
     ]
    }
   ],
   "source": [
    "for i in [ 2,  4,  5,  6,  7,  8,  9, 10, 11, 12, 13, 14, 15, 16, 17]:\n",
    "# for i in [ 14]:\n",
    "    print(i)\n",
    "#     filename = './raw_tabula/tabula-Anuario_2013('+str(i)+')'\n",
    "    filename = './raw_tabula/tablas_extra_privada/tabula-Anuario_2013('+str(i)+')'\n",
    "#     print(filename)\n",
    "    df = pd.read_csv(filename+'.csv', header = None, dtype = str).fillna('-')\n",
    "#     display(df.head())\n",
    "    \n",
    "    df_data = df.iloc[1:].reset_index(drop = True)\n",
    "    df_data.columns = df_data.columns.astype(str).str.zfill(2)\n",
    "\n",
    "    white_space_count = df_data.apply(lambda x: x.str.count(' ')).mean().round().astype(int).iloc[1:]\n",
    "    cols_to_fix = white_space_count.loc[white_space_count > 0].reset_index()\n",
    "    cols_to_fix.columns = ['col', 'n']\n",
    "\n",
    "#     print(cols_to_fix)\n",
    "    df_fixed_col_list = []\n",
    "    for j, row in cols_to_fix.iterrows():    \n",
    "        col = row.col\n",
    "        n = row.n\n",
    "        colnames = [col+L for L in letters]\n",
    "#         print(colnames)\n",
    "        try:\n",
    "            df_fixed_col = pd.DataFrame(df_data[col].str.split(' ').tolist(),\n",
    "                                           columns = colnames[:n + 1])\n",
    "            df_fixed_col_list += [df_fixed_col]\n",
    "        except:\n",
    "            print('Could not parse column '+col+' in dataset '+str(i))\n",
    "\n",
    "    try:\n",
    "        df_fixed = pd.concat(df_fixed_col_list, axis = 1)   \n",
    "        result = pd.concat([df_data, df_fixed], 1).drop(cols_to_fix.col.values, 1)\n",
    "        result = result.sort_index(1)\n",
    "\n",
    "        header = df.iloc[0].reset_index(); header.columns = ['col', 'name']\n",
    "        header['col'] = header['col'].astype(str).str.zfill(2)\n",
    "        header_names = header.set_index('col').to_dict()['name']\n",
    "\n",
    "        result.columns = pd.Series([s[:2] for s in result.columns]).map(header_names)\n",
    "#         display(result.head())\n",
    "        result.to_csv(filename+'_sist_reparse.csv')\n",
    "    except:\n",
    "        print('Failed to parse dataset '+str(i))"
   ]
  },
  {
   "cell_type": "code",
   "execution_count": 61,
   "metadata": {},
   "outputs": [],
   "source": [
    "# # debug\n",
    "# [(len(r), r) for r in df_data[col].str.split(' ').tolist()]"
   ]
  },
  {
   "cell_type": "code",
   "execution_count": null,
   "metadata": {},
   "outputs": [],
   "source": []
  }
 ],
 "metadata": {
  "kernelspec": {
   "display_name": "Python 3",
   "language": "python",
   "name": "python3"
  },
  "language_info": {
   "codemirror_mode": {
    "name": "ipython",
    "version": 3
   },
   "file_extension": ".py",
   "mimetype": "text/x-python",
   "name": "python",
   "nbconvert_exporter": "python",
   "pygments_lexer": "ipython3",
   "version": "3.6.7"
  }
 },
 "nbformat": 4,
 "nbformat_minor": 2
}
